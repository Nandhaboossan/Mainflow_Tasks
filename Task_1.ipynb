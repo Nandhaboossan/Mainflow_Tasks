{
  "nbformat": 4,
  "nbformat_minor": 0,
  "metadata": {
    "colab": {
      "provenance": []
    },
    "kernelspec": {
      "name": "python3",
      "display_name": "Python 3"
    },
    "language_info": {
      "name": "python"
    }
  },
  "cells": [
    {
      "cell_type": "markdown",
      "source": [
        "Datatypes like list,sets and dictionaries are user defined data types"
      ],
      "metadata": {
        "id": "BbPmuG09yYmS"
      }
    },
    {
      "cell_type": "markdown",
      "source": [
        "# **List**\n",
        "\n",
        "-Lists are used to store multiple items in a single variable and enclosed by [ ] .eg: li=[7, \"seven\", 'A', 7.34]\n",
        "\n",
        "-List items are ordered, changeable, and allow duplicate values."
      ],
      "metadata": {
        "id": "IosCbwFvVu0M"
      }
    },
    {
      "cell_type": "code",
      "execution_count": 14,
      "metadata": {
        "id": "lNV_xnnkyRmF",
        "colab": {
          "base_uri": "https://localhost:8080/"
        },
        "outputId": "2bad3034-bf98-4774-cf10-f326cddbbee3"
      },
      "outputs": [
        {
          "output_type": "stream",
          "name": "stdout",
          "text": [
            "result after append() [0, 1, 1, 2, 3, 5]\n",
            "result after expend() [0, 1, 1, 2, 3, 5, 8, 13, 21]\n",
            "result after insert() [0, 1, 1, 2, 3, 5, 8, 13, 21, 34]\n",
            "\n",
            "result after pop() 34\n",
            "result after remove()[0, 1, 1, 2, 3, 5, 8, 13]\n",
            "\n",
            "result after modify [0, 1, 1, 2, 3, 5, 8, 15]\n"
          ]
        }
      ],
      "source": [
        "#Creating List of small Fibonacci series elements\n",
        "Li=[0,1,1,2,3]\n",
        "#first 5 elements of Fibonacci\n",
        "\n",
        "\n",
        "\"\"\"we can add the value in list in 3 ways:append() ,extend() and insert().\n",
        "append() add to tha last.\n",
        "extend() is used to add more elements in single line.\n",
        "insert(position,value) is used to insert a value at any position.\"\"\"\n",
        "Li.append(5)\n",
        "print(\"result after append()\",Li)\n",
        "\n",
        "Li.extend([8,13,21])\n",
        "print(\"result after expend()\",Li)\n",
        "\n",
        "Li.insert(9,34)\n",
        "print(f\"result after insert() {Li}\\n\")\n",
        "\n",
        "\n",
        "\"\"\"we can delete the value in list using two functions:remove() and pop().\n",
        "pop() delete the last value of the list,whereas remove(value) delete the given value inside the function\"\"\"\n",
        "print(\"result after pop()\",Li.pop())#displays the deleted last element of the list.\n",
        "Li.remove(21)\n",
        "\n",
        "print(f\"result after remove(){Li}\\n\")#displays the list after the deletion of value 21.\n",
        "\n",
        "\"\"\"Modification of list can be done with the help of index number. In python index number starts from 0.\n",
        "To modify the list we do list_name[index]=value.\"\"\"\n",
        "Li[7]=15\n",
        "print(\"result after modify\",Li)\n",
        "\n"
      ]
    },
    {
      "cell_type": "markdown",
      "source": [
        "## **set**\n",
        "-A set is unordered, unchangeable, unindexed and also it doesn't allow duplicates.\n",
        "\n",
        "-Lists are used to store multiple items in a single variable and enclosed by { } .eg: Se={7, \"seven\", 'A', 7.34}"
      ],
      "metadata": {
        "id": "YpN1QawTa-Gq"
      }
    },
    {
      "cell_type": "code",
      "source": [
        "# Creating a set with car brands names\n",
        "Se={\"Toyato\", \"BMW\", \"Rolls Royce\"}\n",
        "\n",
        "#we can use add(value) and update(set of values) for adding new values to the set.\n",
        "Se.add(\"Maruti\")\n",
        "print(\"result after add()\",Se)\n",
        "Se1={\"MG\", \"Audi\"}\n",
        "Se.update(Se1)\n",
        "print(f\"result after update(){Se}\\n\")\n",
        "\n",
        "\"\"\"There are 4 ways to delete values in set : remove(), discard(), pop(), del\n",
        "remove(value) removes the element,if the element is not present then it raise an error.\n",
        "discard(value) ,this does the same as remove but doesn't raise any error message if the element is not present.\n",
        "pop(), As the set is unordered pop deletes a random element in the set.\n",
        "del is used to delete the set.\"\"\"\n",
        "Se.remove(\"MG\")\n",
        "print(\"result after remove()\",Se)\n",
        "Se.discard(\"Audi\")\n",
        "print(\"result after discard()\",Se)\n",
        "Se.pop()\n",
        "print(\"result after pop()\",Se)\n",
        "#del Set_name deletes the entire set."
      ],
      "metadata": {
        "colab": {
          "base_uri": "https://localhost:8080/"
        },
        "id": "hJ9dCjJ5VQA3",
        "outputId": "a5a38f53-7b71-494e-b395-9a05f536bf3b"
      },
      "execution_count": 16,
      "outputs": [
        {
          "output_type": "stream",
          "name": "stdout",
          "text": [
            "result after add() {'BMW', 'Toyato', 'Maruti', 'Rolls Royce'}\n",
            "result after update(){'BMW', 'Toyato', 'Maruti', 'Rolls Royce', 'Audi', 'MG'}\n",
            "\n",
            "result after remove() {'BMW', 'Toyato', 'Maruti', 'Rolls Royce', 'Audi'}\n",
            "result after discard() {'BMW', 'Toyato', 'Maruti', 'Rolls Royce'}\n",
            "result after pop() {'Toyato', 'Maruti', 'Rolls Royce'}\n"
          ]
        }
      ]
    },
    {
      "cell_type": "markdown",
      "source": [
        "## **Dictionary**\n",
        "-Dictionaries are ordered, changeable and do not allow duplicates.\n",
        "\n",
        "-Dictionaries are used to store data values in key:value pairs, and enclosed by { }."
      ],
      "metadata": {
        "id": "ZZGbwJK8iCWf"
      }
    },
    {
      "cell_type": "code",
      "source": [
        "#creating Dictionay with alphabet-word pair\n",
        "Dicti={\"a\":\"apple\",\"b\":\"banana\"}\n",
        "print(\"dictionary\",Dicti)\n",
        "\n",
        "# we can add key:value to the dictionary by the following dict_name[key]=value and also we can use update({\"key\":\"value\"})\n",
        "Dicti[\"c\"]=\"cup\"\n",
        "print(\"result after adding\",Dicti)\n",
        "Dicti.update({\"d\": \"deep\",\"e\":\"eagle\"})\n",
        "print(f\"result after update(){Dicti}\\n\")\n",
        "\n",
        "\n",
        "\"\"\"For deletion we have pop(), popitem(), del, clear()\n",
        "pop(\"key\") deletes the related key value pair\n",
        "popitem() deletes the lastly added key value pair\n",
        "del dict_name[\"key\"] deletes the corresponding key value pair\n",
        "clear() deletes the entire dictionary\"\"\"\n",
        "Dicti.pop(\"b\")\n",
        "print(\"result after pop()\",Dicti)\n",
        "Dicti.popitem()\n",
        "print(\"result after popitem()\",Dicti)\n",
        "del Dicti[\"a\"]\n",
        "print(\"result after del\",Dicti)\n",
        "print(\"clear() will deletes the entire dictionary\\n\")\n",
        "\n",
        "\n",
        "# Modification can be done by using dict_name[\"existing_key\"]=value in the same way of adding new element and another method by using update()\n",
        "Dicti[\"c\"]=\"Cupcake\"\n",
        "print(\"result after modify\",Dicti)\n",
        "Dicti.update({\"d\": \"danger\"})\n",
        "print(\"result after update()\",Dicti)"
      ],
      "metadata": {
        "id": "1JkcNA38c0si",
        "colab": {
          "base_uri": "https://localhost:8080/"
        },
        "outputId": "061feea8-1fe3-4968-ee6a-884c7b47fc21"
      },
      "execution_count": 13,
      "outputs": [
        {
          "output_type": "stream",
          "name": "stdout",
          "text": [
            "dictionary {'a': 'apple', 'b': 'banana'}\n",
            "result after adding {'a': 'apple', 'b': 'banana', 'c': 'cup'}\n",
            "result after update(){'a': 'apple', 'b': 'banana', 'c': 'cup', 'd': 'deep', 'e': 'eagle'}\n",
            "\n",
            "result after pop() {'a': 'apple', 'c': 'cup', 'd': 'deep', 'e': 'eagle'}\n",
            "result after popitem() {'a': 'apple', 'c': 'cup', 'd': 'deep'}\n",
            "result after del {'c': 'cup', 'd': 'deep'}\n",
            "clear() will deletes the entire dictionary\n",
            "\n",
            "result after modify {'c': 'Cupcake', 'd': 'deep'}\n",
            "result after update() {'c': 'Cupcake', 'd': 'danger'}\n"
          ]
        }
      ]
    }
  ]
}